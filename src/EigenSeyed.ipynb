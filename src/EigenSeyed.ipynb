{
 "cells": [
  {
   "cell_type": "code",
   "execution_count": 28,
   "metadata": {
    "ExecuteTime": {
     "end_time": "2023-12-27T04:53:20.775554700Z",
     "start_time": "2023-12-27T04:53:20.756558600Z"
    },
    "collapsed": false
   },
   "outputs": [],
   "source": [
    "import numpy as np\n",
    "from scipy.linalg import null_space\n",
    "from sympy import symbols, solve\n",
    "import matplotlib.pyplot as plt\n",
    "from numpy.linalg import eig"
   ]
  },
  {
   "cell_type": "code",
   "execution_count": 44,
   "metadata": {
    "ExecuteTime": {
     "end_time": "2023-12-27T05:03:47.668393600Z",
     "start_time": "2023-12-27T05:03:47.612037300Z"
    },
    "collapsed": true
   },
   "outputs": [],
   "source": [
    "class Eigen:\n",
    "    def __init__(self,size,l):\n",
    "        self.size = size\n",
    "        self.l = np.array(l, dtype=float)\n",
    "\n",
    "    def find(self):\n",
    "        if self.size==2:\n",
    "            if self.l[0][1]==0 or self.l[1][0]:\n",
    "                self.eigen_values = np.array([self.l[1][1],self.l[0][0]])\n",
    "\n",
    "            coff = [1,-1 * (self.l[0][0]+self.l[1][1]) , self.l[0][0]*self.l[1][1] - self.l[1][0] * self.l[0][1]]\n",
    "\n",
    "            self.eigen_values = np.roots(coff)\n",
    "            self.eigen_vectors = []\n",
    "\n",
    "\n",
    "            # --------------------------------------------------------------------------\n",
    "            # it can't find the nullspace of the l - eigenvalue*I and the nullspace in 0 when the eigen values aren't Rational number\n",
    "\n",
    "            for eigen_value in self.eigen_values:\n",
    "                l1 = self.l.copy()\n",
    "                l1[0][0] -= eigen_value\n",
    "                l1[1][1] -= eigen_value\n",
    "                self.eigen_vectors.append(null_space(l1))\n",
    "\n",
    "\n",
    "\n",
    "            # --------------------------------------------------------------------------\n",
    "\n",
    "\n",
    "        if self.size == 3:\n",
    "            self.eigen_vectors = []\n",
    "            \n",
    "            coff = [1, self.l[0][0]*self.l[0][1], self.l[0][0]*self.l[1][1]*self.l[2][2] - self.l[0][0]*self.l[1][2]*self.l[2][1] - self.l[0][1]*self.l[1][0]*self.l[2][2] + self.l[0][1]*self.l[1][2]*self.l[2][0] + self.l[0][2]*self.l[1][0]*self.l[2][1] - self.l[0][2]*self.l[1][1]*self.l[2][0]]\n",
    "            \n",
    "            x = symbols('x')\n",
    "            equation = ((self.l[0][0]-x)*(self.l[1][1]-x)*(self.l[2][2]-x)+(self.l[0][1]*self.l[2][0]*self.l[1][2])+(self.l[1][0]*self.l[2][1]*self.l[0][2]))-(((self.l[2][2]-x)*self.l[2][0]*self.l[0][2])+((self.l[0][0]-x)*self.l[1][2]*self.l[2][1])+((self.l[2][2]-x)*self.l[1][0]*self.l[0][1]))\n",
    "            solution = solve(equation, x)\n",
    "            self.eigen_values = [sol.evalf(chop=True) for sol in solution]\n",
    "            self.eigen_vectors = []\n",
    "            for eigen_value in self.eigen_values:\n",
    "                l1 = self.l.copy()\n",
    "                l1[0][0] -= eigen_value\n",
    "                l1[1][1] -= eigen_value\n",
    "                l1[2][2] -= eigen_value\n",
    "                self.eigen_vectors.append(null_space(l1))\n",
    "\n",
    "    def plot(self):\n",
    "        fig, ax = plt.subplots()\n",
    "        ax.scatter(0, 0, color='red')\n",
    "        for i in range(len(self.eigen_vectors)):\n",
    "            eigenvector = self.eigen_vectors[i] / np.linalg.norm(self.eigen_vectors[i])\n",
    "            ax.quiver(0, 0, *eigenvector, color=random_color(256), angles='xy', scale_units='xy', scale=1, width=0.005, label=f\"Eigenvalue {self.eigen_values[i]}\")\n",
    "            transformed_eigenvector = np.dot(self.l, eigenvector)\n",
    "            ax.quiver(*eigenvector, *transformed_eigenvector, color='green', angles='xy', scale_units='xy', scale=1, width=0.0005, linewidth=0.5, edgecolor='black')\n",
    "        ax.legend()\n",
    "        ax.set_xlim(-2, 2)\n",
    "        ax.set_ylim(-2, 2)\n",
    "\n",
    "        plt.show()\n",
    "\n",
    "\n",
    "    # for the Diagonalizing(Optional)\n",
    "    def diagonalizing(self):\n",
    "        eigenvalues, eigenvectors = eig(self.l)\n",
    "        print('Eigenvalues:', eigenvalues)\n",
    "        print('Eigenvectors:', eigenvectors)\n",
    "\n",
    "        if eigenvalues.shape[0] == eigenvectors.shape[1]:\n",
    "\n",
    "            D = np.diag(eigenvalues)\n",
    "            P_inv = np.linalg.inv(eigenvectors)\n",
    "            diagonalized_matrix = (eigenvectors , D , P_inv)\n",
    "            return diagonalized_matrix\n",
    "        else:\n",
    "            print(\"Matrix is not diagonalizable.\")\n",
    "def random_color(n):\n",
    "    return plt.colormaps['hsv'](np.random.randint(n))"
   ]
  },
  {
   "cell_type": "code",
   "execution_count": 45,
   "metadata": {
    "ExecuteTime": {
     "end_time": "2023-12-27T05:03:48.296396200Z",
     "start_time": "2023-12-27T05:03:48.058707100Z"
    },
    "collapsed": false
   },
   "outputs": [
    {
     "name": "stdout",
     "output_type": "stream",
     "text": [
      "[[ 6.  5.]\n",
      " [32.  4.]]\n",
      "eigen values:\n",
      "[17.68857754 -7.68857754]\n",
      "eigen vectors:\n",
      "[array([[-0.39329519],\n",
      "       [-0.91941226]]), array([[ 0.34309636],\n",
      "       [-0.93930021]])]\n"
     ]
    },
    {
     "data": {
      "image/png": "[encoded data removed]",
      "text/plain": [
       "<Figure size 640x480 with 1 Axes>"
      ]
     },
     "metadata": {},
     "output_type": "display_data"
    },
    {
     "name": "stdout",
     "output_type": "stream",
     "text": [
      "Diagonalization:\n",
      "Eigenvalues: [17.68857754 -7.68857754]\n",
      "Eigenvectors: [[ 0.39329519 -0.34309636]\n",
      " [ 0.91941226  0.93930021]]\n",
      "(array([[ 0.39329519, -0.34309636],\n",
      "       [ 0.91941226,  0.93930021]]), array([[17.68857754,  0.        ],\n",
      "       [ 0.        , -7.68857754]]), array([[ 1.37150298,  0.50096622],\n",
      "       [-1.34246392,  0.57426317]]))\n"
     ]
    }
   ],
   "source": [
    "eigen = Eigen(2,[[6,5],[32,4]])\n",
    "print(eigen.l)\n",
    "eigen.find()\n",
    "print('eigen values:')\n",
    "print(eigen.eigen_values)\n",
    "print('eigen vectors:')\n",
    "print(eigen.eigen_vectors)\n",
    "eigen.plot()\n",
    "print('Diagonalization:')\n",
    "print(eigen.diagonalizing())"
   ]
  },
  {
   "cell_type": "code",
   "execution_count": 47,
   "metadata": {},
   "outputs": [
    {
     "name": "stdout",
     "output_type": "stream",
     "text": [
      "[[1. 2. 3.]\n",
      " [3. 2. 1.]\n",
      " [2. 1. 3.]]\n",
      "eigen values:\n",
      "[-1.66807231097292, 1.85693369453373, 5.81113861643919]\n"
     ]
    }
   ],
   "source": [
    "eigen = Eigen(3,[[1,2,3],[3,2,1],[2,1,3]])\n",
    "print(eigen.l)\n",
    "eigen.find()\n",
    "print('eigen values:')\n",
    "print(eigen.eigen_values)"
   ]
  },
  {
   "cell_type": "code",
   "execution_count": 48,
   "metadata": {
    "ExecuteTime": {
     "end_time": "2023-12-27T04:53:21.105570100Z",
     "start_time": "2023-12-27T04:53:21.088589400Z"
    },
    "collapsed": false
   },
   "outputs": [],
   "source": [
    "def project(a,b):\n",
    "    return np.array(a) * np.dot(a,b) / np.dot(a,a)\n",
    "\n",
    "def plot(a,b,p):\n",
    "    fig, ax = plt.subplots()\n",
    "\n",
    "    ax.scatter(0, 0, color='red')\n",
    "    ax.quiver(0, 0, *a, color=random_color(256), angles='xy', scale_units='xy', scale=1, width=0.005, label=f\"a\")\n",
    "    ax.quiver(0, 0, *b, color=random_color(256), angles='xy', scale_units='xy', scale=1, width=0.005, label=f\"b\")\n",
    "    transformed = p\n",
    "    ax.quiver(0 , 0 , *transformed, color=random_color(256), angles='xy', scale_units='xy', scale=1, edgecolor='black',label='Projection')\n",
    "    size = np.linalg.norm(p)\n",
    "    ax.legend()\n",
    "    ax.set_xlim(-2*size, 2*size)\n",
    "    ax.set_ylim(-2*size, 2*size)\n",
    "\n",
    "    plt.show()\n"
   ]
  },
  {
   "cell_type": "code",
   "execution_count": 8,
   "metadata": {
    "ExecuteTime": {
     "end_time": "2023-12-27T04:53:21.401554Z",
     "start_time": "2023-12-27T04:53:21.103561100Z"
    },
    "collapsed": false
   },
   "outputs": [
    {
     "data": {
      "image/png": "[encoded data removed]",
      "text/plain": [
       "<Figure size 640x480 with 1 Axes>"
      ]
     },
     "metadata": {},
     "output_type": "display_data"
    }
   ],
   "source": [
    "a = [5,0]\n",
    "b = [4,1]\n",
    "p = project(a,b)\n",
    "plot(a,b,p)"
   ]
  },
  {
   "cell_type": "code",
   "execution_count": 10,
   "metadata": {
    "ExecuteTime": {
     "end_time": "2023-12-27T04:53:21.417552400Z",
     "start_time": "2023-12-27T04:53:21.399555600Z"
    },
    "collapsed": false
   },
   "outputs": [],
   "source": []
  }
 ],
 "metadata": {
  "kernelspec": {
   "display_name": "Python 3 (ipykernel)",
   "language": "python",
   "name": "python3"
  },
  "language_info": {
   "codemirror_mode": {
    "name": "ipython",
    "version": 3
   },
   "file_extension": ".py",
   "mimetype": "text/x-python",
   "name": "python",
   "nbconvert_exporter": "python",
   "pygments_lexer": "ipython3",
   "version": "3.10.9"
  }
 },
 "nbformat": 4,
 "nbformat_minor": 0
}
