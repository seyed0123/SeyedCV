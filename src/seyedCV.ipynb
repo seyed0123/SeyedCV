{
 "cells": [
  {
   "cell_type": "code",
   "execution_count": null,
   "metadata": {
    "ExecuteTime": {
     "end_time": "2023-11-19T18:51:05.973748300Z",
     "start_time": "2023-11-19T18:51:05.956748300Z"
    },
    "collapsed": true
   },
   "outputs": [],
   "source": [
    "import cv2\n",
    "import numpy as np\n",
    "import matplotlib.pyplot as plt\n",
    "from PIL import Image"
   ]
  },
  {
   "cell_type": "code",
   "execution_count": null,
   "metadata": {
    "ExecuteTime": {
     "end_time": "2023-11-19T18:53:52.864665900Z",
     "start_time": "2023-11-19T18:53:52.678669500Z"
    }
   },
   "outputs": [],
   "source": [
    "class seyedCV:\n",
    "    def __init__(self, image_path):\n",
    "        img = Image.open(image_path)\n",
    "\n",
    "        img_rgb = img.convert('RGB')\n",
    "        self.image = img_rgb\n",
    "        self.address = image_path\n",
    "\n",
    "\n",
    "    def reload(self):\n",
    "        img = cv2.imread(self.address)\n",
    "        img_rgb = cv2.cvtColor(img, cv2.COLOR_BGR2RGB)\n",
    "        self.image = img_rgb\n",
    "\n",
    "\n",
    "    def load(self,image):\n",
    "        self.image = cv2.imread(image)\n",
    "        self.address = image\n",
    "\n",
    "\n",
    "    def show_with_origin(self,name):\n",
    "        fig, ax = plt.subplots(1, 2)\n",
    "        ax[0].imshow(v.image)\n",
    "        img = cv2.imread(self.address)\n",
    "        img_rgb = cv2.cvtColor(img, cv2.COLOR_BGR2RGB)\n",
    "        ax[1].imshow(img_rgb)\n",
    "\n",
    "        ax[0].set_title('processed')\n",
    "        ax[1].set_title('Origin')\n",
    "        plt.savefig(name+'.png')\n",
    "\n",
    "        plt.show()\n",
    "    def show(self):\n",
    "        plt.imshow(self.image)\n",
    "        plt.show()\n",
    "\n",
    "    def save(self,name):\n",
    "        img = Image.fromarray(self.image)\n",
    "        img.save(name+\".png\")\n",
    "\n",
    "    def resize(self, sx, sy):\n",
    "\n",
    "        h, w = self.image.shape[:2]\n",
    "\n",
    "\n",
    "        y, x = np.mgrid[0:sy*h:1, 0:sx*w:1]\n",
    "\n",
    "\n",
    "        x = x / sx\n",
    "        y = y / sy\n",
    "\n",
    "\n",
    "        x = np.round(x).astype(int)\n",
    "        y = np.round(y).astype(int)\n",
    "\n",
    "\n",
    "        x = np.clip(x, 0, w-1)\n",
    "        y = np.clip(y, 0, h-1)\n",
    "\n",
    "\n",
    "        self.image = self.image[y, x]\n",
    "\n",
    "\n",
    "    def rotate(self,theta):\n",
    "\n",
    "        theta = np.deg2rad(theta)\n",
    "\n",
    "\n",
    "        h, w = self.image.shape[:2]\n",
    "\n",
    "\n",
    "        y, x = np.mgrid[0:h, 0:w]\n",
    "\n",
    "\n",
    "        x = x - w/2\n",
    "        y = y - h/2\n",
    "\n",
    "\n",
    "        x_new = x * np.cos(theta) + y * np.sin(theta)\n",
    "        y_new = -x * np.sin(theta) + y * np.cos(theta)\n",
    "\n",
    "\n",
    "        x_new = x_new + w/2\n",
    "        y_new = y_new + h/2\n",
    "\n",
    "        x_new = np.round(x_new).astype(int)\n",
    "        y_new = np.round(y_new).astype(int)\n",
    "\n",
    "\n",
    "        x_new = np.clip(x_new, 0, w-1)\n",
    "        y_new = np.clip(y_new, 0, h-1)\n",
    "\n",
    "\n",
    "        self.image = self.image[y_new, x_new]\n",
    "\n",
    "    def compress(self):\n",
    "\n",
    "        img_array_compressed = self.image // 4 * 4\n",
    "\n",
    "\n",
    "        img_compressed = Image.fromarray(img_array_compressed)\n",
    "\n",
    "\n",
    "\n",
    "    def sobel_filter(self):\n",
    "        self.convolve(np.array([[-1, -2, -1],\n",
    "                                [ 0,  0,  0],\n",
    "                                [ 1,  2,  1]]))\n",
    "\n",
    "    def prewitt_filter(self):\n",
    "        self.convolve(np.array([[-1, 0, 1],\n",
    "                                  [-1, 0, 1],\n",
    "                                  [-1, 0, 1]]))\n",
    "\n",
    "    def sharpen_filter(self):\n",
    "        self.convolve(np.array([[ 0, -1,  0],\n",
    "                                [-1,  5, -1],\n",
    "                                [ 0, -1,  0]]))\n",
    "\n",
    "    def blur_filter(self):\n",
    "\n",
    "        array = np.ones((5,5))\n",
    "        averaging_filter = np.multiply(array, 1/25)\n",
    "        self.convolve(averaging_filter)\n",
    "\n",
    "    def smooth(self):\n",
    "        self.convolve(np.array([[2,4,5,4,2],\n",
    "                                [4,9,12,9,4],\n",
    "                                [5,12,15,12,5],\n",
    "                                [4,9,12,9,4],\n",
    "                                [2,4,5,4,2]])/159)\n",
    "    def invert_color(self):\n",
    "        image = self.image\n",
    "\n",
    "        for i in range(image.shape[1]):\n",
    "            for j in range(image.shape[0]):\n",
    "                self.image[j, i] = 255-self.image[j,i]\n",
    "\n",
    "    def luminosity(self):\n",
    "        image = self.image\n",
    "        out = np.zeros((image.shape[0], image.shape[1]), dtype=np.uint8)\n",
    "\n",
    "        for i in range(image.shape[1]):\n",
    "            for j in range(image.shape[0]):\n",
    "                out[j, i] = image[j, i, 0] * 0.2989 + image[j, i, 1] * 0.5870 + image[j, i, 2] * 0.1140\n",
    "\n",
    "        self.image = out\n",
    "\n",
    "    def color_balance(self,red,green,blue):\n",
    "        image = self.image\n",
    "\n",
    "        for i in range(image.shape[1]):\n",
    "            for j in range(image.shape[0]):\n",
    "                new_red = np.clip(image[j, i][0] * red, 0, 255)\n",
    "                new_green = np.clip(image[j, i][1] * green, 0, 255)\n",
    "                new_blue = np.clip(image[j, i][2] * blue, 0, 255)\n",
    "                self.image[j, i] = np.array([new_red, new_green, new_blue])\n",
    "\n",
    "    def convolve(self, filter):\n",
    "\n",
    "        filter_x , filter_y = np.shape(filter)\n",
    "        image = self.image\n",
    "\n",
    "\n",
    "        filter = np.flipud(np.fliplr(filter))\n",
    "\n",
    "\n",
    "        output = np.zeros_like(image)\n",
    "\n",
    "\n",
    "        for i in range(image.shape[1]-filter_x+1):\n",
    "            for j in range(image.shape[0]-filter_y+1):\n",
    "\n",
    "\n",
    "                output[j, i ,0]=(filter * image[j: j+filter_y, i: i+filter_x, 0]).sum()\n",
    "                output[j, i ,1]=(filter * image[j: j+filter_y, i: i+filter_x, 1]).sum()\n",
    "                output[j, i ,2]=(filter * image[j: j+filter_y, i: i+filter_x, 2]).sum()\n",
    "\n",
    "        self.image = output\n"
   ]
  },
  {
   "cell_type": "code",
   "execution_count": null,
   "metadata": {
    "ExecuteTime": {
     "end_time": "2023-11-19T18:53:54.056411400Z",
     "start_time": "2023-11-19T18:53:54.014918700Z"
    }
   },
   "outputs": [],
   "source": [
    "v = seyedCV('image.jpg')"
   ]
  },
  {
   "cell_type": "code",
   "execution_count": null,
   "metadata": {
    "ExecuteTime": {
     "end_time": "2023-11-19T18:53:54.985095400Z",
     "start_time": "2023-11-19T18:53:54.816097800Z"
    },
    "collapsed": false
   },
   "outputs": [],
   "source": [
    "v.reload()\n",
    "v.compress()\n",
    "v.show_with_origin('../ans/compress')"
   ]
  },
  {
   "cell_type": "code",
   "execution_count": null,
   "metadata": {
    "ExecuteTime": {
     "end_time": "2023-11-19T18:53:57.480937300Z",
     "start_time": "2023-11-19T18:53:55.539942400Z"
    }
   },
   "outputs": [],
   "source": [
    "v.reload()\n",
    "v.resize(1,2)\n",
    "v.show_with_origin('../ans/resize12')\n",
    "v.reload()\n",
    "v.resize(2,1)\n",
    "v.show_with_origin('../ans/resize21')"
   ]
  },
  {
   "cell_type": "code",
   "execution_count": null,
   "metadata": {
    "ExecuteTime": {
     "end_time": "2023-11-19T18:53:58.108933600Z",
     "start_time": "2023-11-19T18:53:57.474935200Z"
    }
   },
   "outputs": [],
   "source": [
    "v.reload()\n",
    "v.rotate(180)\n",
    "v.show_with_origin('../ans/rotate')"
   ]
  },
  {
   "cell_type": "code",
   "execution_count": null,
   "metadata": {
    "ExecuteTime": {
     "end_time": "2023-11-19T18:54:07.024664900Z",
     "start_time": "2023-11-19T18:53:58.108933600Z"
    }
   },
   "outputs": [],
   "source": [
    "v.reload()\n",
    "v.sobel_filter()\n",
    "v.show_with_origin('../ans/sobel')"
   ]
  },
  {
   "cell_type": "code",
   "execution_count": null,
   "metadata": {
    "ExecuteTime": {
     "end_time": "2023-11-19T18:54:15.296679800Z",
     "start_time": "2023-11-19T18:54:07.032664500Z"
    }
   },
   "outputs": [],
   "source": [
    "v.reload()\n",
    "v.prewitt_filter()\n",
    "v.show_with_origin('../ans/prewitt')"
   ]
  },
  {
   "cell_type": "code",
   "execution_count": null,
   "metadata": {
    "ExecuteTime": {
     "end_time": "2023-11-19T18:54:24.284700700Z",
     "start_time": "2023-11-19T18:54:15.295678300Z"
    }
   },
   "outputs": [],
   "source": [
    "v.reload()\n",
    "v.sharpen_filter()\n",
    "v.show_with_origin('../ans/sharpen')"
   ]
  },
  {
   "cell_type": "code",
   "execution_count": null,
   "metadata": {
    "ExecuteTime": {
     "end_time": "2023-11-19T18:54:33.210040100Z",
     "start_time": "2023-11-19T18:54:24.259666200Z"
    }
   },
   "outputs": [],
   "source": [
    "v.reload()\n",
    "v.blur_filter()\n",
    "v.show_with_origin('../ans/blur')"
   ]
  },
  {
   "cell_type": "code",
   "execution_count": null,
   "metadata": {
    "ExecuteTime": {
     "end_time": "2023-11-19T18:54:40.921047800Z",
     "start_time": "2023-11-19T18:54:33.337042300Z"
    }
   },
   "outputs": [],
   "source": [
    "v.reload()\n",
    "v.smooth()\n",
    "v.show_with_origin('../ans/smooth')"
   ]
  },
  {
   "cell_type": "code",
   "execution_count": null,
   "metadata": {
    "ExecuteTime": {
     "end_time": "2023-11-19T18:54:43.156040200Z",
     "start_time": "2023-11-19T18:54:40.917043700Z"
    }
   },
   "outputs": [],
   "source": [
    "v.reload()\n",
    "v.invert_color()\n",
    "v.show_with_origin('../ans/invert')"
   ]
  },
  {
   "cell_type": "code",
   "execution_count": null,
   "metadata": {
    "ExecuteTime": {
     "end_time": "2023-11-19T18:54:46.607039400Z",
     "start_time": "2023-11-19T18:54:43.160045300Z"
    }
   },
   "outputs": [],
   "source": [
    "v.reload()\n",
    "v.luminosity()\n",
    "v.show_with_origin('../ans/luminosity')"
   ]
  },
  {
   "cell_type": "code",
   "execution_count": null,
   "metadata": {
    "ExecuteTime": {
     "end_time": "2023-11-19T18:55:02.385045Z",
     "start_time": "2023-11-19T18:54:46.578040700Z"
    }
   },
   "outputs": [],
   "source": [
    "v.reload()\n",
    "v.color_balance(0.7,1.1,1.2)\n",
    "v.show_with_origin('../ans/balance')"
   ]
  },
  {
   "cell_type": "code",
   "execution_count": null,
   "metadata": {},
   "outputs": [],
   "source": []
  }
 ],
 "metadata": {
  "kernelspec": {
   "display_name": "Python 3 (ipykernel)",
   "language": "python",
   "name": "python3"
  },
  "language_info": {
   "codemirror_mode": {
    "name": "ipython",
    "version": 3
   },
   "file_extension": ".py",
   "mimetype": "text/x-python",
   "name": "python",
   "nbconvert_exporter": "python",
   "pygments_lexer": "ipython3",
   "version": "3.10.9"
  },
  "vscode": {
   "interpreter": {
    "hash": "1855f670ebefbe1ed779106beea973717033a9f2d7d10b4b2e286a586fe57605"
   }
  }
 },
 "nbformat": 4,
 "nbformat_minor": 1
}
