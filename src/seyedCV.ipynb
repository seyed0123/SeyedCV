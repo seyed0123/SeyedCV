{
 "cells": [
  {
   "cell_type": "code",
   "execution_count": null,
   "metadata": {
    "ExecuteTime": {
     "end_time": "2023-11-19T18:51:05.973748300Z",
     "start_time": "2023-11-19T18:51:05.956748300Z"
    },
    "collapsed": true
   },
   "outputs": [],
   "source": [
    "import cv2\n",
    "import numpy as np\n",
    "import matplotlib.pyplot as plt\n",
    "from PIL import Image"
   ]
  },
  {
   "cell_type": "code",
   "execution_count": null,
   "metadata": {
    "ExecuteTime": {
     "end_time": "2023-11-19T18:53:52.864665900Z",
     "start_time": "2023-11-19T18:53:52.678669500Z"
    }
   },
   "outputs": [],
   "source": [
    "class seyedCV:\n",
    "    def __init__(self, image_path):\n",
    "        img = Image.open(image_path)\n",
    "\n",
    "        img_rgb = img.convert('RGB')\n",
    "        self.image = img_rgb\n",
    "        self.address = image_path\n",
    "\n",
    "\n",
    "    def reload(self):\n",
    "        img = cv2.imread(self.address)\n",
    "        img_rgb = cv2.cvtColor(img, cv2.COLOR_BGR2RGB)\n",
    "        self.image = img_rgb\n",
    "\n",
    "\n",
    "    def load(self,image):\n",
    "        self.image = cv2.imread(image)\n",
    "        self.address = image\n",
    "\n",
    "\n",
    "    def show_with_origin(self,name):\n",
    "        fig, ax = plt.subplots(1, 2)\n",
    "        ax[0].imshow(v.image)\n",
    "        img = cv2.imread(self.address)\n",
    "        img_rgb = cv2.cvtColor(img, cv2.COLOR_BGR2RGB)\n",
    "        ax[1].imshow(img_rgb)\n",
    "\n",
    "        ax[0].set_title('processed')\n",
    "        ax[1].set_title('Origin')\n",
    "        plt.savefig(name+'.png')\n",
    "\n",
    "        plt.show()\n",
    "    def show(self):\n",
    "        plt.imshow(self.image)\n",
    "        plt.show()\n",
    "\n",
    "    def save(self,name):\n",
    "        img = Image.fromarray(self.image)\n",
    "        img.save(name+\".png\")\n",
    "\n",
    "    def resize(self, sx, sy):\n",
    "\n",
    "        h, w = self.image.shape[:2]\n",
    "\n",
    "\n",
    "        y, x = np.mgrid[0:sy*h:1, 0:sx*w:1]\n",
    "\n",
    "\n",
    "        x = x / sx\n",
    "        y = y / sy\n",
    "\n",
    "\n",
    "        x = np.round(x).astype(int)\n",
    "        y = np.round(y).astype(int)\n",
    "\n",
    "\n",
    "        x = np.clip(x, 0, w-1)\n",
    "        y = np.clip(y, 0, h-1)\n",
    "\n",
    "\n",
    "        self.image = self.image[y, x]\n",
    "\n",
    "\n",
    "    def rotate(self,theta):\n",
    "\n",
    "        theta = np.deg2rad(theta)\n",
    "\n",
    "\n",
    "        h, w = self.image.shape[:2]\n",
    "\n",
    "\n",
    "        y, x = np.mgrid[0:h, 0:w]\n",
    "\n",
    "\n",
    "        x = x - w/2\n",
    "        y = y - h/2\n",
    "\n",
    "\n",
    "        x_new = x * np.cos(theta) + y * np.sin(theta)\n",
    "        y_new = -x * np.sin(theta) + y * np.cos(theta)\n",
    "\n",
    "\n",
    "        x_new = x_new + w/2\n",
    "        y_new = y_new + h/2\n",
    "\n",
    "        x_new = np.round(x_new).astype(int)\n",
    "        y_new = np.round(y_new).astype(int)\n",
    "\n",
    "\n",
    "        x_new = np.clip(x_new, 0, w-1)\n",
    "        y_new = np.clip(y_new, 0, h-1)\n",
    "\n",
    "\n",
    "        self.image = self.image[y_new, x_new]\n",
    "\n",
    "    def compress(self):\n",
    "\n",
    "        img_array_compressed = self.image // 4 * 4\n",
    "\n",
    "\n",
    "        img_compressed = Image.fromarray(img_array_compressed)\n",
    "\n",
    "\n",
    "\n",
    "    def sobel_filter(self):\n",
    "        self.convolve(np.array([[-1, -2, -1],\n",
    "                                [ 0,  0,  0],\n",
    "                                [ 1,  2,  1]]))\n",
    "\n",
    "    def prewitt_filter(self):\n",
    "        self.convolve(np.array([[-1, 0, 1],\n",
    "                                  [-1, 0, 1],\n",
    "                                  [-1, 0, 1]]))\n",
    "\n",
    "    def sharpen_filter(self):\n",
    "        self.convolve(np.array([[ 0, -1,  0],\n",
    "                                [-1,  5, -1],\n",
    "                                [ 0, -1,  0]]))\n",
    "\n",
    "    def blur_filter(self):\n",
    "\n",
    "        array = np.ones((5,5))\n",
    "        averaging_filter = np.multiply(array, 1/25)\n",
    "        self.convolve(averaging_filter)\n",
    "\n",
    "    def smooth(self):\n",
    "        self.convolve(np.array([[2,4,5,4,2],\n",
    "                                [4,9,12,9,4],\n",
    "                                [5,12,15,12,5],\n",
    "                                [4,9,12,9,4],\n",
    "                                [2,4,5,4,2]])/159)\n",
    "    def invert_color(self):\n",
    "        image = self.image\n",
    "\n",
    "        for i in range(image.shape[1]):\n",
    "            for j in range(image.shape[0]):\n",
    "                self.image[j, i] = 255-self.image[j,i]\n",
    "\n",
    "    def luminosity(self):\n",
    "        image = self.image\n",
    "        out = np.zeros((image.shape[0], image.shape[1]), dtype=np.uint8)\n",
    "\n",
    "        for i in range(image.shape[1]):\n",
    "            for j in range(image.shape[0]):\n",
    "                out[j, i] = image[j, i, 0] * 0.2989 + image[j, i, 1] * 0.5870 + image[j, i, 2] * 0.1140\n",
    "\n",
    "        self.image = out\n",
    "\n",
    "    def color_balance(self,red,green,blue):\n",
    "        image = self.image\n",
    "\n",
    "        for i in range(image.shape[1]):\n",
    "            for j in range(image.shape[0]):\n",
    "                new_red = np.clip(image[j, i][0] * red, 0, 255)\n",
    "                new_green = np.clip(image[j, i][1] * green, 0, 255)\n",
    "                new_blue = np.clip(image[j, i][2] * blue, 0, 255)\n",
    "                self.image[j, i] = np.array([new_red, new_green, new_blue])\n",
    "\n",
    "    def convolve(self, filter):\n",
    "\n",
    "        filter_x , filter_y = np.shape(filter)\n",
    "        image = self.image\n",
    "\n",
    "\n",
    "        filter = np.flipud(np.fliplr(filter))\n",
    "\n",
    "\n",
    "        output = np.zeros_like(image)\n",
    "\n",
    "\n",
    "        for i in range(image.shape[1]-filter_x+1):\n",
    "            for j in range(image.shape[0]-filter_y+1):\n",
    "\n",
    "\n",
    "                output[j, i ,0]=(filter * image[j: j+filter_y, i: i+filter_x, 0]).sum()\n",
    "                output[j, i ,1]=(filter * image[j: j+filter_y, i: i+filter_x, 1]).sum()\n",
    "                output[j, i ,2]=(filter * image[j: j+filter_y, i: i+filter_x, 2]).sum()\n",
    "\n",
    "        self.image = output\n"
   ]
  },
  {
   "cell_type": "code",
   "execution_count": null,
   "metadata": {
    "ExecuteTime": {
     "end_time": "2023-11-19T18:53:54.056411400Z",
     "start_time": "2023-11-19T18:53:54.014918700Z"
    }
   },
   "outputs": [],
   "source": [
    "v = seyedCV('image.jpg')"
   ]
  },
  {
   "cell_type": "code",
   "execution_count": null,
   "metadata": {
    "ExecuteTime": {
     "end_time": "2023-11-19T18:53:54.985095400Z",
     "start_time": "2023-11-19T18:53:54.816097800Z"
    },
    "collapsed": false
   },
   "outputs": [],
   "source": [
    "v.reload()\n",
    "v.compress()\n",
    "v.show_with_origin('../ans/compress')"
   ]
  },
  {
   "cell_type": "code",
   "execution_count": null,
   "metadata": {
    "ExecuteTime": {
     "end_time": "2023-11-19T18:53:57.480937300Z",
     "start_time": "2023-11-19T18:53:55.539942400Z"
    }
   },
   "outputs": [],
   "source": [
    "v.reload()\n",
    "v.resize(1,2)\n",
    "v.show_with_origin('../ans/resize12')\n",
    "v.reload()\n",
    "v.resize(2,1)\n",
    "v.show_with_origin('../ans/resize21')"
   ]
  },
  {
   "cell_type": "code",
   "execution_count": null,
   "metadata": {
    "ExecuteTime": {
     "end_time": "2023-11-19T18:53:58.108933600Z",
     "start_time": "2023-11-19T18:53:57.474935200Z"
    }
   },
   "outputs": [],
   "source": [
    "v.reload()\n",
    "v.rotate(180)\n",
    "v.show_with_origin('../ans/rotate')"
   ]
  },
  {
   "cell_type": "code",
   "execution_count": null,
   "metadata": {
    "ExecuteTime": {
     "end_time": "2023-11-19T18:54:07.024664900Z",
     "start_time": "2023-11-19T18:53:58.108933600Z"
    }
   },
   "outputs": [],
   "source": [
    "v.reload()\n",
    "v.sobel_filter()\n",
    "v.show_with_origin('../ans/sobel')"
   ]
  },
  {
   "cell_type": "code",
   "execution_count": null,
   "metadata": {
    "ExecuteTime": {
     "end_time": "2023-11-19T18:54:15.296679800Z",
     "start_time": "2023-11-19T18:54:07.032664500Z"
    }
   },
   "outputs": [],
   "source": [
    "v.reload()\n",
    "v.prewitt_filter()\n",
    "v.show_with_origin('../ans/prewitt')"
   ]
  },
  {
   "cell_type": "code",
   "execution_count": null,
   "metadata": {
    "ExecuteTime": {
     "end_time": "2023-11-19T18:54:24.284700700Z",
     "start_time": "2023-11-19T18:54:15.295678300Z"
    }
   },
   "outputs": [],
   "source": [
    "v.reload()\n",
    "v.sharpen_filter()\n",
    "v.show_with_origin('../ans/sharpen')"
   ]
  },
  {
   "cell_type": "code",
   "execution_count": null,
   "metadata": {
    "ExecuteTime": {
     "end_time": "2023-11-19T18:54:33.210040100Z",
     "start_time": "2023-11-19T18:54:24.259666200Z"
    }
   },
   "outputs": [],
   "source": [
    "v.reload()\n",
    "v.blur_filter()\n",
    "v.show_with_origin('../ans/blur')"
   ]
  },
  {
   "cell_type": "code",
   "execution_count": null,
   "metadata": {
    "ExecuteTime": {
     "end_time": "2023-11-19T18:54:40.921047800Z",
     "start_time": "2023-11-19T18:54:33.337042300Z"
    }
   },
   "outputs": [],
   "source": [
    "v.reload()\n",
    "v.smooth()\n",
    "v.show_with_origin('../ans/smooth')"
   ]
  },
  {
   "cell_type": "code",
   "execution_count": null,
   "metadata": {
    "ExecuteTime": {
     "end_time": "2023-11-19T18:54:43.156040200Z",
     "start_time": "2023-11-19T18:54:40.917043700Z"
    }
   },
   "outputs": [],
   "source": [
    "v.reload()\n",
    "v.invert_color()\n",
    "v.show_with_origin('../ans/invert')"
   ]
  },
  {
   "cell_type": "code",
   "execution_count": null,
   "metadata": {
    "ExecuteTime": {
     "end_time": "2023-11-19T18:54:46.607039400Z",
     "start_time": "2023-11-19T18:54:43.160045300Z"
    }
   },
   "outputs": [],
   "source": [
    "v.reload()\n",
    "v.luminosity()\n",
    "v.show_with_origin('../ans/luminosity')"
   ]
  },
  {
   "cell_type": "code",
   "execution_count": null,
   "metadata": {
    "ExecuteTime": {
     "end_time": "2023-11-19T18:55:02.385045Z",
     "start_time": "2023-11-19T18:54:46.578040700Z"
    }
   },
   "outputs": [],
   "source": [
    "v.reload()\n",
    "v.color_balance(0.7,1.1,1.2)\n",
    "v.show_with_origin('../ans/balance')"
   ]
  },
  {
   "cell_type": "markdown",
   "metadata": {},
   "source": [
    "# descriptions:"
   ]
  },
  {
   "cell_type": "markdown",
   "metadata": {},
   "source": [
    "# 1. Resize Operation:\n",
    "## Concept: Scaling Transformation\n",
    "**Explanation**: The resize operation rescales the image by applying a scaling transformation. It achieves this by creating a grid of coordinates in the output image and applying the inverse transformation to these coordinates. The coordinates are divided by the scaling factors, resulting in a rescaled image. The rounding of coordinates ensures that the nearest pixel in the input image is obtained.\n",
    "### matrix:\n",
    "\n",
    "\\begin{bmatrix}\n",
    "sx & 0 \\\\\n",
    "0 & sy \\\\\n",
    "\\end{bmatrix}\n",
    "\n",
    "# 2. Rotate Operation:\n",
    "## Concept: Rotation Transformation\n",
    "**Explanation**: The rotate operation rotates the image by applying a rotation transformation. It begins by converting the rotation angle to radians. A grid of coordinates is then created in the output image. The coordinates are centered by subtracting the width and height of the image by 2. The inverse rotation transformation is applied to these coordinates using trigonometric functions. The shifted and rounded coordinates are then used to index the input image, resulting in a rotated image.\n",
    "### matrix:\n",
    "\n",
    "\\begin{bmatrix}\n",
    "cos($\\theta$) & -sin($\\theta$) \\\\\n",
    "sin($\\theta$) & cos($\\theta$) \\\\\n",
    "\\end{bmatrix}\n",
    "\n",
    "# 3. Sobel Filter Operation:\n",
    "## Concept: Convolution\n",
    "**Explanation**: The sobel_filter operation applies a convolution operation to the image using a specific filter. Convolution involves element-wise multiplication of the filter and the image, followed by summing the results. This operation is a linear transformation in linear algebra. The sobel_filter operation utilizes a 3x3 filter matrix to detect edges in the image.\n",
    "### matrix:\n",
    "\\begin{bmatrix}\n",
    "-1 & -2 & -1 \\\\\n",
    "0 & 0 & 0 \\\\\n",
    "1 & 2 & 0 \\\\\n",
    "\\end{bmatrix}\n",
    "# 4. Prewitt Filter Operation:\n",
    "## Concept: Convolution\n",
    "**Explanation**: The prewitt_filter operation also applies a convolution operation to the image using a specific filter. Similar to the sobel_filter operation, it involves element-wise multiplication of the filter and the image, followed by summing the results. This operation is a linear transformation in linear algebra. The prewitt_filter operation utilizes a 3x3 filter matrix to detect edges in the image.\n",
    "### matrix:\n",
    "\\begin{bmatrix}\n",
    "-1 & 0 & 1 \\\\\n",
    "-1 & 0 & 1 \\\\\n",
    "-1 & 0 & 1 \\\\\n",
    "\\end{bmatrix}\n",
    "# 5. Sharpen Filter Operation:\n",
    "## Concept: Convolution\n",
    "**Explanation**: The sharpen_filter operation applies a convolution operation to the image using a specific filter. It involves element-wise multiplication of the filter and the image, followed by summing the results. This operation is a linear transformation in linear algebra. The sharpen_filter operation utilizes a 3x3 filter matrix to enhance the sharpness of the image.\n",
    "### matrix:\n",
    "\\begin{bmatrix}\n",
    "0 & -1 & 0 \\\\\n",
    "-1 & -5 & -1 \\\\\n",
    "0 & -5 & 0 \\\\\n",
    "\\end{bmatrix}\n",
    "# 6. Blur Filter Operation:\n",
    "## Concept: Convolution\n",
    "**Explanation**: The blur_filter operation applies a convolution operation to the image using an averaging filter. Similar to the previous operations, it involves element-wise multiplication of the filter and the image, followed by summing the results. This operation is a linear transformation in linear algebra. The blur_filter operation utilizes a 5x5 averaging filter matrix to blur the image.\n",
    "### matrix:\n",
    "$\n",
    "\\begin{bmatrix}\n",
    "\\frac{1}{25} & \\frac{1}{25} & \\frac{1}{25} & \\frac{1}{25} & \\frac{1}{25} \\\\\n",
    "\\frac{1}{25} & \\frac{1}{25} & \\frac{1}{25} & \\frac{1}{25} & \\frac{1}{25} \\\\\n",
    "\\frac{1}{25} & \\frac{1}{25} & \\frac{1}{25} & \\frac{1}{25} & \\frac{1}{25} \\\\\n",
    "\\frac{1}{25} & \\frac{1}{25} & \\frac{1}{25} & \\frac{1}{25} & \\frac{1}{25} \\\\\n",
    "\\frac{1}{25} & \\frac{1}{25} & \\frac{1}{25} & \\frac{1}{25} & \\frac{1}{25} \\\\\n",
    "\\end{bmatrix}$\n",
    "# 7. Invert Color Operation:\n",
    "## Concept: Linear Transformation\n",
    "**Explanation**: The invert_color operation applies a linear transformation to each pixel of the image. It subtracts the pixel value from 255 to invert the color. This operation is a linear transformation in linear algebra.\n",
    "### metrix: Please note that these are not matrices in the linear algebra sense, but rather operations applied to each pixel in the image.\n",
    "```\n",
    "R' = 255 - R\n",
    "G' = 255 - G\n",
    "B' = 255 - B\n",
    "```\n",
    "# 8. Luminosity Operation:\n",
    "## Concept: Linear Transformation\n",
    "**Explanation**: The luminosity operation applies a linear transformation to each pixel of the image. It calculates the luminosity value of each pixel using a weighted sum of the RGB values. This operation is a linear transformation in linear algebra.\n",
    "### matrix:\n",
    "$\n",
    "\\begin{bmatrix}\n",
    "0.2989 & 0.5870 & 0.1140 \\\\\n",
    "\\end{bmatrix}\n",
    "$\n",
    "# 9. Color Balance Operation:\n",
    "## Concept: Linear Transformation\n",
    "**Explanation**: The color_balance operation applies a linear transformation to each pixel of the image. It multiplies the RGB values of each pixel by the specified color balance factors and clips the result to the valid range. This operation is a linear transformation in linear algebra.\n",
    "### matrix:\n",
    "\\begin{bmatrix}\n",
    "red scale & green scale & blue scale \\\\\n",
    "\\end{bmatrix}\n",
    "# 10. Convolve Method:\n",
    "## Concept: Convolution\n",
    "**Explanation**: The convolve method applies a convolution operation to the image using a given filter. It involves element-wise multiplication of the filter and the image, followed by summing the results. This operation is a linear transformation in linear algebra."
   ]
  },
  {
   "cell_type": "code",
   "execution_count": null,
   "metadata": {},
   "outputs": [],
   "source": []
  }
 ],
 "metadata": {
  "kernelspec": {
   "display_name": "Python 3 (ipykernel)",
   "language": "python",
   "name": "python3"
  },
  "language_info": {
   "codemirror_mode": {
    "name": "ipython",
    "version": 3
   },
   "file_extension": ".py",
   "mimetype": "text/x-python",
   "name": "python",
   "nbconvert_exporter": "python",
   "pygments_lexer": "ipython3",
   "version": "3.10.9"
  },
  "vscode": {
   "interpreter": {
    "hash": "1855f670ebefbe1ed779106beea973717033a9f2d7d10b4b2e286a586fe57605"
   }
  }
 },
 "nbformat": 4,
 "nbformat_minor": 1
}
